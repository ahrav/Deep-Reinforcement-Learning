{
 "cells": [
  {
   "cell_type": "markdown",
   "metadata": {},
   "source": [
    "# Collaboration and Competition\n",
    "\n",
    "---\n",
    "\n",
    "In this notebook, you will learn how to use the Unity ML-Agents environment for the third project of the [Deep Reinforcement Learning Nanodegree](https://www.udacity.com/course/deep-reinforcement-learning-nanodegree--nd893) program.\n",
    "\n",
    "### 1. Start the Environment\n",
    "\n",
    "We begin by importing the necessary packages.  If the code cell below returns an error, please revisit the project instructions to double-check that you have installed [Unity ML-Agents](https://github.com/Unity-Technologies/ml-agents/blob/master/docs/Installation.md) and [NumPy](http://www.numpy.org/)."
   ]
  },
  {
   "cell_type": "code",
   "execution_count": 1,
   "metadata": {},
   "outputs": [],
   "source": [
    "from unityagents import UnityEnvironment\n",
    "import numpy as np"
   ]
  },
  {
   "cell_type": "markdown",
   "metadata": {},
   "source": [
    "Next, we will start the environment!  **_Before running the code cell below_**, change the `file_name` parameter to match the location of the Unity environment that you downloaded.\n",
    "\n",
    "- **Mac**: `\"path/to/Tennis.app\"`\n",
    "- **Windows** (x86): `\"path/to/Tennis_Windows_x86/Tennis.exe\"`\n",
    "- **Windows** (x86_64): `\"path/to/Tennis_Windows_x86_64/Tennis.exe\"`\n",
    "- **Linux** (x86): `\"path/to/Tennis_Linux/Tennis.x86\"`\n",
    "- **Linux** (x86_64): `\"path/to/Tennis_Linux/Tennis.x86_64\"`\n",
    "- **Linux** (x86, headless): `\"path/to/Tennis_Linux_NoVis/Tennis.x86\"`\n",
    "- **Linux** (x86_64, headless): `\"path/to/Tennis_Linux_NoVis/Tennis.x86_64\"`\n",
    "\n",
    "For instance, if you are using a Mac, then you downloaded `Tennis.app`.  If this file is in the same folder as the notebook, then the line below should appear as follows:\n",
    "```\n",
    "env = UnityEnvironment(file_name=\"Tennis.app\")\n",
    "```"
   ]
  },
  {
   "cell_type": "code",
   "execution_count": 2,
   "metadata": {},
   "outputs": [
    {
     "name": "stderr",
     "output_type": "stream",
     "text": [
      "INFO:unityagents:\n",
      "'Academy' started successfully!\n",
      "Unity Academy name: Academy\n",
      "        Number of Brains: 1\n",
      "        Number of External Brains : 1\n",
      "        Lesson number : 0\n",
      "        Reset Parameters :\n",
      "\t\t\n",
      "Unity brain name: TennisBrain\n",
      "        Number of Visual Observations (per agent): 0\n",
      "        Vector Observation space type: continuous\n",
      "        Vector Observation space size (per agent): 8\n",
      "        Number of stacked Vector Observation: 3\n",
      "        Vector Action space type: continuous\n",
      "        Vector Action space size (per agent): 2\n",
      "        Vector Action descriptions: , \n"
     ]
    }
   ],
   "source": [
    "env = UnityEnvironment(file_name=\"Tennis.app\")"
   ]
  },
  {
   "cell_type": "markdown",
   "metadata": {},
   "source": [
    "Environments contain **_brains_** which are responsible for deciding the actions of their associated agents. Here we check for the first brain available, and set it as the default brain we will be controlling from Python."
   ]
  },
  {
   "cell_type": "code",
   "execution_count": 3,
   "metadata": {},
   "outputs": [],
   "source": [
    "# get the default brain\n",
    "brain_name = env.brain_names[0]\n",
    "brain = env.brains[brain_name]"
   ]
  },
  {
   "cell_type": "markdown",
   "metadata": {},
   "source": [
    "### 2. Examine the State and Action Spaces\n",
    "\n",
    "In this environment, two agents control rackets to bounce a ball over a net. If an agent hits the ball over the net, it receives a reward of +0.1.  If an agent lets a ball hit the ground or hits the ball out of bounds, it receives a reward of -0.01.  Thus, the goal of each agent is to keep the ball in play.\n",
    "\n",
    "The observation space consists of 8 variables corresponding to the position and velocity of the ball and racket. Two continuous actions are available, corresponding to movement toward (or away from) the net, and jumping. \n",
    "\n",
    "Run the code cell below to print some information about the environment."
   ]
  },
  {
   "cell_type": "code",
   "execution_count": 4,
   "metadata": {},
   "outputs": [
    {
     "name": "stdout",
     "output_type": "stream",
     "text": [
      "Number of agents: 2\n",
      "Size of each action: 2\n",
      "There are 2 agents. Each observes a state with length: 24\n",
      "The state for the first agent looks like: [ 0.          0.          0.          0.          0.          0.\n",
      "  0.          0.          0.          0.          0.          0.\n",
      "  0.          0.          0.          0.         -6.65278625 -1.5\n",
      " -0.          0.          6.83172083  6.         -0.          0.        ]\n"
     ]
    }
   ],
   "source": [
    "# reset the environment\n",
    "env_info = env.reset(train_mode=True)[brain_name]\n",
    "\n",
    "# number of agents \n",
    "num_agents = len(env_info.agents)\n",
    "print('Number of agents:', num_agents)\n",
    "\n",
    "# size of each action\n",
    "action_size = brain.vector_action_space_size\n",
    "print('Size of each action:', action_size)\n",
    "\n",
    "# examine the state space \n",
    "states = env_info.vector_observations\n",
    "state_size = states.shape[1]\n",
    "print('There are {} agents. Each observes a state with length: {}'.format(states.shape[0], state_size))\n",
    "print('The state for the first agent looks like:', states[0])"
   ]
  },
  {
   "cell_type": "markdown",
   "metadata": {},
   "source": [
    "### 3. Take Random Actions in the Environment\n",
    "\n",
    "In the next code cell, you will learn how to use the Python API to control the agents and receive feedback from the environment.\n",
    "\n",
    "Once this cell is executed, you will watch the agents' performance, if they select actions at random with each time step.  A window should pop up that allows you to observe the agents.\n",
    "\n",
    "Of course, as part of the project, you'll have to change the code so that the agents are able to use their experiences to gradually choose better actions when interacting with the environment!"
   ]
  },
  {
   "cell_type": "code",
   "execution_count": null,
   "metadata": {},
   "outputs": [],
   "source": [
    "for i in range(1, 6):                                      # play game for 5 episodes\n",
    "    env_info = env.reset(train_mode=False)[brain_name]     # reset the environment    \n",
    "    states = env_info.vector_observations                  # get the current state (for each agent)\n",
    "    scores = np.zeros(num_agents)                          # initialize the score (for each agent)\n",
    "    while True:\n",
    "        actions = np.random.randn(num_agents, action_size) # select an action (for each agent)\n",
    "        actions = np.clip(actions, -1, 1)                  # all actions between -1 and 1\n",
    "        env_info = env.step(actions)[brain_name]           # send all actions to tne environment\n",
    "        next_states = env_info.vector_observations         # get next state (for each agent)\n",
    "        rewards = env_info.rewards                         # get reward (for each agent)\n",
    "        dones = env_info.local_done                        # see if episode finished\n",
    "        scores += env_info.rewards                         # update the score (for each agent)\n",
    "        states = next_states                               # roll over states to next time step\n",
    "        if np.any(dones):                                  # exit loop if episode finished\n",
    "            break\n",
    "    print('Score (max over agents) from episode {}: {}'.format(i, np.max(scores)))"
   ]
  },
  {
   "cell_type": "markdown",
   "metadata": {},
   "source": [
    "When finished, you can close the environment."
   ]
  },
  {
   "cell_type": "code",
   "execution_count": null,
   "metadata": {},
   "outputs": [],
   "source": [
    "env.close()"
   ]
  },
  {
   "cell_type": "markdown",
   "metadata": {},
   "source": [
    "### 4. It's Your Turn!\n",
    "\n",
    "Now it's your turn to train your own agent to solve the environment!  When training the environment, set `train_mode=True`, so that the line for resetting the environment looks like the following:\n",
    "```python\n",
    "env_info = env.reset(train_mode=True)[brain_name]\n",
    "```"
   ]
  },
  {
   "cell_type": "code",
   "execution_count": 5,
   "metadata": {},
   "outputs": [],
   "source": [
    "env_info = env.reset(train_mode=True)[brain_name]"
   ]
  },
  {
   "cell_type": "code",
   "execution_count": 6,
   "metadata": {},
   "outputs": [],
   "source": [
    "import torch\n",
    "import numpy as np\n",
    "from collections import deque\n",
    "import matplotlib.pyplot as plt\n",
    "from workspace_utils import active_session\n",
    "%matplotlib inline\n",
    "\n",
    "from agent import Agent"
   ]
  },
  {
   "cell_type": "code",
   "execution_count": 7,
   "metadata": {},
   "outputs": [],
   "source": [
    "load_agent = False"
   ]
  },
  {
   "cell_type": "code",
   "execution_count": 8,
   "metadata": {},
   "outputs": [
    {
     "name": "stdout",
     "output_type": "stream",
     "text": [
      "Agents created\n"
     ]
    }
   ],
   "source": [
    "if load_agent:\n",
    "    agent.local_actor.load_state_dict(torch.load('checkpoint_local_actor.pth'))\n",
    "    agent.local_critic.load_state_dict(torch.load('checkpoint_local_critic.pth'))\n",
    "    print('Agent loaded')\n",
    "else:\n",
    "    agent_0 = Agent(state_size, action_size, random_seed=0)\n",
    "    agent_1 = Agent(state_size, action_size, random_seed=0)\n",
    "    print('Agents created')"
   ]
  },
  {
   "cell_type": "code",
   "execution_count": 9,
   "metadata": {},
   "outputs": [],
   "source": [
    "def get_actions(states):\n",
    "    '''gets actions for each agent and then combines them into one array'''\n",
    "    action_0 = agent_0.act(states)    # agent 0 chooses an action\n",
    "    action_1 = agent_1.act(states)    # agent 1 chooses an action\n",
    "    return np.concatenate((action_0, action_1), axis=0).flatten()"
   ]
  },
  {
   "cell_type": "code",
   "execution_count": 10,
   "metadata": {},
   "outputs": [
    {
     "name": "stdout",
     "output_type": "stream",
     "text": [
      "Episode: \t504 \tMax Score: \t5.20 \tAverage Score: \t0.51\n",
      "Environment solved in 504 episodes!\tAverage Score: 0.51\n",
      "Episode: \t600 \tMax Score: \t5.20 \tAverage Score: \t0.86\tAverage Score: 0.86\n",
      "Episode: \t700 \tMax Score: \t5.20 \tAverage Score: \t0.99\tAverage Score: 0.99\n",
      "Episode: \t800 \tMax Score: \t5.30 \tAverage Score: \t1.81\tAverage Score: 1.81\n",
      "Episode: \t900 \tMax Score: \t5.30 \tAverage Score: \t1.57\tAverage Score: 1.57\n",
      "Episode: \t1000 \tMax Score: \t5.20 \tAverage Score: \t1.02\tAverage Score: 1.02\n",
      "Episode: \t1100 \tMax Score: \t4.40 \tAverage Score: \t0.69\tAverage Score: 0.69\n",
      "Episode: \t1200 \tMax Score: \t3.50 \tAverage Score: \t0.75\tAverage Score: 0.75\n",
      "Episode: \t1300 \tMax Score: \t5.20 \tAverage Score: \t1.23\tAverage Score: 1.23\n",
      "Episode: \t1400 \tMax Score: \t5.20 \tAverage Score: \t1.04\tAverage Score: 1.04\n",
      "Episode: \t1500 \tMax Score: \t5.20 \tAverage Score: \t0.59\tAverage Score: 0.59\n",
      "Episode: \t1700 \tMax Score: \t5.10 \tAverage Score: \t0.66\tAverage Score: 0.66\n",
      "Episode: \t1800 \tMax Score: \t5.20 \tAverage Score: \t0.80\tAverage Score: 0.80\n",
      "Episode: \t1900 \tMax Score: \t5.30 \tAverage Score: \t0.99\tAverage Score: 0.99\n",
      "Episode: \t2000 \tMax Score: \t5.30 \tAverage Score: \t1.17\tAverage Score: 1.17\n",
      "Episode: \t2100 \tMax Score: \t5.20 \tAverage Score: \t1.10\tAverage Score: 1.10\n",
      "Episode: \t2200 \tMax Score: \t5.10 \tAverage Score: \t0.87\tAverage Score: 0.87\n",
      "Episode: \t2300 \tMax Score: \t5.20 \tAverage Score: \t1.48\tAverage Score: 1.48\n",
      "Episode: \t2400 \tMax Score: \t5.20 \tAverage Score: \t1.74\tAverage Score: 1.74\n",
      "Episode: \t2500 \tMax Score: \t5.20 \tAverage Score: \t1.15\tAverage Score: 1.15\n",
      "Episode: \t2600 \tMax Score: \t5.20 \tAverage Score: \t1.34\tAverage Score: 1.34\n",
      "Episode: \t2700 \tMax Score: \t5.20 \tAverage Score: \t1.16\tAverage Score: 1.16\n",
      "Episode: \t2800 \tMax Score: \t5.20 \tAverage Score: \t1.34\tAverage Score: 1.34\n",
      "Episode: \t2900 \tMax Score: \t5.30 \tAverage Score: \t1.85\tAverage Score: 1.85\n",
      "Episode: \t2999 \tMax Score: \t5.30 \tAverage Score: \t2.49"
     ]
    },
    {
     "data": {
      "image/png": "[encoded data removed]",
      "text/plain": [
       "<Figure size 432x288 with 1 Axes>"
      ]
     },
     "metadata": {
      "needs_background": "light"
     },
     "output_type": "display_data"
    }
   ],
   "source": [
    "def ddpg_train(n_episodes=3000, max_t=1000, print_every=100):\n",
    "    scores_all = []\n",
    "    scores_window = deque(maxlen=100)\n",
    "    scores_mean = []\n",
    "    solved = False\n",
    "\n",
    "    for episode in range(n_episodes):\n",
    "        env_info = env.reset(train_mode=True)[brain_name]            # reset the environment\n",
    "        states = np.reshape(env_info.vector_observations, (1,48))    # get states and combine them\n",
    "        agent_0.reset()                                              # reset the agents noise\n",
    "        agent_1.reset()\n",
    "        scores = np.zeros(num_agents)\n",
    "        \n",
    "        while True:\n",
    "            actions = get_actions(states)                            # choose agent actions and combine them\n",
    "        \n",
    "            env_info = env.step( actions )[brain_name]               # send the action to the environment                            \n",
    "            next_states = np.reshape(env_info.vector_observations, (1, 48))               # get the next state        \n",
    "            rewards = env_info.rewards                               # get the reward        \n",
    "            dones = env_info.local_done                              # see if episode has finished        \n",
    "\n",
    "            agent_0.step(states, actions, rewards[0], next_states, dones, 0)\n",
    "            agent_1.step(states, actions, rewards[1], next_states, dones, 1)\n",
    "\n",
    "            scores += np.max(rewards)                                # update the score\n",
    "        \n",
    "            states = next_states                                     # roll over the state to next time step        \n",
    "                                                        \n",
    "            if np.any( dones ):                                      # exit loop if episode finished        \n",
    "                 break                                        \n",
    "\n",
    "        scores_all.append(scores.max())\n",
    "        scores_window.append(np.max(scores))\n",
    "        scores_mean.append(np.mean(scores_window))\n",
    "\n",
    "    \n",
    "        print('\\rEpisode: \\t{} \\tMax Score: \\t{:.2f} \\tAverage Score: \\t{:.2f}'.format(episode, np.max(scores_all[-print_every:]), scores_mean[-1]), end=\"\")\n",
    "        \n",
    "        if episode % print_every == 0:            \n",
    "            torch.save(agent_0.local_actor.state_dict(), 'checkpoint_local_actor_0.pth')           # save local actor\n",
    "            torch.save(agent_0.local_critic.state_dict(), 'checkpoint_local_critic_0.pth')\n",
    "            torch.save(agent_1.local_actor.state_dict(), 'checkpoint_local_actor_1.pth')           # save local actor\n",
    "            torch.save(agent_1.local_critic.state_dict(), 'checkpoint_local_critic_1.pth')         # save local critic\n",
    "        \n",
    "        if scores_mean[-1] >= 0.5:\n",
    "            if solved == False:\n",
    "                solved = True\n",
    "                print('\\nEnvironment solved in {:d} episodes!\\tAverage Score: {:.2f}'.format(episode, scores_mean[-1]))\n",
    "                torch.save(agent_0.local_actor.state_dict(), 'checkpoint_local_actor_0.pth')           # save local actor\n",
    "                torch.save(agent_0.local_critic.state_dict(), 'checkpoint_local_critic_0.pth')\n",
    "                torch.save(agent_1.local_actor.state_dict(), 'checkpoint_local_actor_1.pth')           # save local actor\n",
    "                torch.save(agent_1.local_critic.state_dict(), 'checkpoint_local_critic_1.pth')\n",
    "            else:\n",
    "                if episode % print_every == 0:\n",
    "                    print('\\tAverage Score: {:.2f}'.format(scores_mean[-1]))   \n",
    "\n",
    "    plt.plot(np.arange(1, len(scores_all)+1), scores_all)\n",
    "    plt.plot(np.arange(1, len(scores_mean)+1), scores_mean)\n",
    "    plt.ylabel('Score')\n",
    "    plt.xlabel('Episode #')\n",
    "    plt.legend(('Score', 'Mean'), fontsize='xx-large')\n",
    "    plt.show()\n",
    "\n",
    "# with active_session():\n",
    "ddpg_train()"
   ]
  },
  {
   "cell_type": "code",
   "execution_count": null,
   "metadata": {},
   "outputs": [],
   "source": []
  }
 ],
 "metadata": {
  "kernelspec": {
   "display_name": "drlnd",
   "language": "python",
   "name": "drlnd"
  },
  "language_info": {
   "codemirror_mode": {
    "name": "ipython",
    "version": 3
   },
   "file_extension": ".py",
   "mimetype": "text/x-python",
   "name": "python",
   "nbconvert_exporter": "python",
   "pygments_lexer": "ipython3",
   "version": "3.6.12"
  }
 },
 "nbformat": 4,
 "nbformat_minor": 2
}
